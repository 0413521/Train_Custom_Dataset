{
 "cells": [
  {
   "cell_type": "code",
   "execution_count": 1,
   "id": "149e5e26",
   "metadata": {
    "_cell_guid": "b1076dfc-b9ad-4769-8c92-a6c4dae69d19",
    "_uuid": "8f2839f25d086af736a60e9eeb907d3b93b6e0e5",
    "execution": {
     "iopub.execute_input": "2023-09-09T03:35:38.026201Z",
     "iopub.status.busy": "2023-09-09T03:35:38.025703Z",
     "iopub.status.idle": "2023-09-09T03:35:38.401724Z",
     "shell.execute_reply": "2023-09-09T03:35:38.400584Z"
    },
    "papermill": {
     "duration": 0.384251,
     "end_time": "2023-09-09T03:35:38.404242",
     "exception": false,
     "start_time": "2023-09-09T03:35:38.019991",
     "status": "completed"
    },
    "tags": []
   },
   "outputs": [],
   "source": [
    "# This Python 3 environment comes with many helpful analytics libraries installed\n",
    "# It is defined by the kaggle/python Docker image: https://github.com/kaggle/docker-python\n",
    "# For example, here's several helpful packages to load\n",
    "\n",
    "import numpy as np # linear algebra\n",
    "import pandas as pd # data processing, CSV file I/O (e.g. pd.read_csv)\n",
    "\n",
    "# Input data files are available in the read-only \"../input/\" directory\n",
    "# For example, running this (by clicking run or pressing Shift+Enter) will list all files under the input directory\n",
    "\n",
    "import os\n",
    "for dirname, _, filenames in os.walk('/kaggle/input'):\n",
    "    for filename in filenames:\n",
    "        print(os.path.join(dirname, filename))\n",
    "\n",
    "# You can write up to 20GB to the current directory (/kaggle/working/) that gets preserved as output when you create a version using \"Save & Run All\" \n",
    "# You can also write temporary files to /kaggle/temp/, but they won't be saved outside of the current session"
   ]
  },
  {
   "cell_type": "code",
   "execution_count": 2,
   "id": "0cc217e4",
   "metadata": {
    "execution": {
     "iopub.execute_input": "2023-09-09T03:35:38.412364Z",
     "iopub.status.busy": "2023-09-09T03:35:38.411704Z",
     "iopub.status.idle": "2023-09-09T03:35:42.232358Z",
     "shell.execute_reply": "2023-09-09T03:35:42.231241Z"
    },
    "papermill": {
     "duration": 3.827167,
     "end_time": "2023-09-09T03:35:42.234727",
     "exception": false,
     "start_time": "2023-09-09T03:35:38.407560",
     "status": "completed"
    },
    "tags": []
   },
   "outputs": [
    {
     "name": "stdout",
     "output_type": "stream",
     "text": [
      "conv out: torch.Size([2, 32, 5, 5])\n",
      "lenet out: torch.Size([2, 10])\n"
     ]
    }
   ],
   "source": [
    "import  torch\n",
    "from    torch import nn\n",
    "from    torch.nn import functional as F\n",
    "\n",
    "\n",
    "\n",
    "\n",
    "class Lenet5(nn.Module):\n",
    "    \"\"\"\n",
    "    for cifar10 dataset.\n",
    "    \"\"\"\n",
    "    def __init__(self):\n",
    "        super(Lenet5, self).__init__()\n",
    "\n",
    "        self.conv_unit = nn.Sequential(\n",
    "            # x: [b, 3, 32, 32] => [b, 16, ]\n",
    "            nn.Conv2d(3, 16, kernel_size=5, stride=1, padding=0),\n",
    "            nn.MaxPool2d(kernel_size=2, stride=2, padding=0),\n",
    "            #\n",
    "            nn.Conv2d(16, 32, kernel_size=5, stride=1, padding=0),\n",
    "            nn.MaxPool2d(kernel_size=2, stride=2, padding=0),\n",
    "            #\n",
    "        )\n",
    "        # flatten\n",
    "        # fc unit\n",
    "        self.fc_unit = nn.Sequential(\n",
    "            nn.Linear(32*5*5, 32),\n",
    "            nn.ReLU(),\n",
    "            # nn.Linear(120, 84),\n",
    "            # nn.ReLU(),\n",
    "            nn.Linear(32, 10)\n",
    "        )\n",
    "\n",
    "\n",
    "        # [b, 3, 32, 32]\n",
    "        tmp = torch.randn(2, 3, 32, 32)\n",
    "        out = self.conv_unit(tmp)\n",
    "        # [b, 16, 5, 5]\n",
    "        print('conv out:', out.shape)\n",
    "\n",
    "        # # use Cross Entropy Loss\n",
    "        # self.criteon = nn.CrossEntropyLoss()\n",
    "\n",
    "\n",
    "\n",
    "    def forward(self, x):\n",
    "        \"\"\"\n",
    "\n",
    "        :param x: [b, 3, 32, 32]\n",
    "        :return:\n",
    "        \"\"\"\n",
    "        batchsz = x.size(0)\n",
    "        # [b, 3, 32, 32] => [b, 16, 5, 5]\n",
    "        x = self.conv_unit(x)\n",
    "        # [b, 16, 5, 5] => [b, 16*5*5]\n",
    "        x = x.view(batchsz, 32*5*5)\n",
    "        # [b, 16*5*5] => [b, 10]\n",
    "        logits = self.fc_unit(x)\n",
    "\n",
    "        # # [b, 10]\n",
    "        # pred = F.softmax(logits, dim=1)\n",
    "        # loss = self.criteon(logits, y)\n",
    "\n",
    "        return logits\n",
    "\n",
    "def main():\n",
    "\n",
    "    net = Lenet5()\n",
    "\n",
    "    tmp = torch.randn(2, 3, 32, 32)\n",
    "    out = net(tmp)\n",
    "    print('lenet out:', out.shape)\n",
    "\n",
    "\n",
    "\n",
    "\n",
    "if __name__ == '__main__':\n",
    "    main()"
   ]
  }
 ],
 "kernelspec": {
  "display_name": "Python 3",
  "language": "python",
  "name": "python3"
 },
 "language_info": {
  "codemirror_mode": {
   "name": "ipython",
   "version": 3
  },
  "file_extension": ".py",
  "mimetype": "text/x-python",
  "name": "python",
  "nbconvert_exporter": "python",
  "pygments_lexer": "ipython3",
  "version": "3.6.4"
 },
 "metadata": {
  "kernelspec": {
   "display_name": "Python 3",
   "language": "python",
   "name": "python3"
  },
  "language_info": {
   "codemirror_mode": {
    "name": "ipython",
    "version": 3
   },
   "file_extension": ".py",
   "mimetype": "text/x-python",
   "name": "python",
   "nbconvert_exporter": "python",
   "pygments_lexer": "ipython3",
   "version": "3.10.12"
  },
  "papermill": {
   "default_parameters": {},
   "duration": 8.530286,
   "end_time": "2023-09-09T03:35:43.159774",
   "environment_variables": {},
   "exception": null,
   "input_path": "__notebook__.ipynb",
   "output_path": "__notebook__.ipynb",
   "parameters": {},
   "start_time": "2023-09-09T03:35:34.629488",
   "version": "2.4.0"
  }
 },
 "nbformat": 4,
 "nbformat_minor": 5
}
